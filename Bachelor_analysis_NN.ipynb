{
  "nbformat": 4,
  "nbformat_minor": 0,
  "metadata": {
    "colab": {
      "name": "Bachelor_analysis.ipynb",
      "provenance": []
    },
    "kernelspec": {
      "name": "python3",
      "display_name": "Python 3"
    },
    "language_info": {
      "name": "python"
    }
  },
  "cells": [
    {
      "cell_type": "code",
      "execution_count": null,
      "metadata": {
        "colab": {
          "base_uri": "https://localhost:8080/"
        },
        "id": "HnpDssuPjhzk",
        "outputId": "7da65f9c-d1d6-4c4f-e4c2-f6ccb46a8239"
      },
      "outputs": [
        {
          "output_type": "stream",
          "name": "stdout",
          "text": [
            "Drive already mounted at /content/drive; to attempt to forcibly remount, call drive.mount(\"/content/drive\", force_remount=True).\n"
          ]
        }
      ],
      "source": [
        "import pandas as pd \n",
        "import numpy as np\n",
        "import matplotlib.pyplot as plt\n",
        "from google.colab import drive\n",
        "drive.mount('/content/drive')\n",
        "\n"
      ]
    },
    {
      "cell_type": "code",
      "source": [
        "data = pd.read_csv('drive/MyDrive/DSFP_data/Bachelor analysis.csv')\n",
        "\n",
        "data"
      ],
      "metadata": {
        "colab": {
          "base_uri": "https://localhost:8080/",
          "height": 411
        },
        "id": "Pj1WgCQcjwRu",
        "outputId": "f3a4ce65-0daf-4f73-d6c9-d43f23db41eb"
      },
      "execution_count": null,
      "outputs": [
        {
          "output_type": "execute_result",
          "data": {
            "text/plain": [
              "                      Name  Age      Hometown        Job category      Race  \\\n",
              "0            DeAnna Pappas   25         South             REALTOR     White   \n",
              "1              Jenni Croft   27       Midwest              DANCER     White   \n",
              "2          Bettina Bell[2]   27  Mid atlantic             REALTOR     White   \n",
              "3        Sheena Stewart[3]   23          West           EXECUTIVE     White   \n",
              "4     Hillary Reisinger[4]   27  Mid atlantic             MEDICAL     White   \n",
              "..                     ...  ...           ...                 ...       ...   \n",
              "417    Casandra Suarez[45]   25          West            POLITICS  Hispanic   \n",
              "418     Corrinne Jones[48]   22          East           MARKETING     White   \n",
              "419         Emani Curl[49]   25          West             REALTOR     Black   \n",
              "420  Kimberly Courneya[28]   28     Northwest           RECRUITER     Black   \n",
              "421  Saneh Ste. Claire[50]   25         South  SCIENCE/TECHNOLOGY     White   \n",
              "\n",
              "     Place  Season   1-on-1 week FIR? Joke Entrance  \n",
              "0        2       11          NaN  NaN           NaN  \n",
              "1        2       11          NaN  Yes           NaN  \n",
              "2        3       11          NaN  NaN           NaN  \n",
              "3        4       11          NaN  NaN           NaN  \n",
              "4        5       11          NaN  NaN           NaN  \n",
              "..     ...      ...          ...  ...           ...  \n",
              "417     25       25          NaN  NaN           NaN  \n",
              "418     25       25          NaN  NaN           NaN  \n",
              "419     25       25          NaN  NaN           NaN  \n",
              "420     25       25          NaN  NaN           NaN  \n",
              "421     25       25          NaN  NaN       Gimmick  \n",
              "\n",
              "[422 rows x 10 columns]"
            ],
            "text/html": [
              "\n",
              "  <div id=\"df-41b2978a-cc76-4e77-8546-4632f73b054a\">\n",
              "    <div class=\"colab-df-container\">\n",
              "      <div>\n",
              "<style scoped>\n",
              "    .dataframe tbody tr th:only-of-type {\n",
              "        vertical-align: middle;\n",
              "    }\n",
              "\n",
              "    .dataframe tbody tr th {\n",
              "        vertical-align: top;\n",
              "    }\n",
              "\n",
              "    .dataframe thead th {\n",
              "        text-align: right;\n",
              "    }\n",
              "</style>\n",
              "<table border=\"1\" class=\"dataframe\">\n",
              "  <thead>\n",
              "    <tr style=\"text-align: right;\">\n",
              "      <th></th>\n",
              "      <th>Name</th>\n",
              "      <th>Age</th>\n",
              "      <th>Hometown</th>\n",
              "      <th>Job category</th>\n",
              "      <th>Race</th>\n",
              "      <th>Place</th>\n",
              "      <th>Season</th>\n",
              "      <th>1-on-1 week</th>\n",
              "      <th>FIR?</th>\n",
              "      <th>Joke Entrance</th>\n",
              "    </tr>\n",
              "  </thead>\n",
              "  <tbody>\n",
              "    <tr>\n",
              "      <th>0</th>\n",
              "      <td>DeAnna Pappas</td>\n",
              "      <td>25</td>\n",
              "      <td>South</td>\n",
              "      <td>REALTOR</td>\n",
              "      <td>White</td>\n",
              "      <td>2</td>\n",
              "      <td>11</td>\n",
              "      <td>NaN</td>\n",
              "      <td>NaN</td>\n",
              "      <td>NaN</td>\n",
              "    </tr>\n",
              "    <tr>\n",
              "      <th>1</th>\n",
              "      <td>Jenni Croft</td>\n",
              "      <td>27</td>\n",
              "      <td>Midwest</td>\n",
              "      <td>DANCER</td>\n",
              "      <td>White</td>\n",
              "      <td>2</td>\n",
              "      <td>11</td>\n",
              "      <td>NaN</td>\n",
              "      <td>Yes</td>\n",
              "      <td>NaN</td>\n",
              "    </tr>\n",
              "    <tr>\n",
              "      <th>2</th>\n",
              "      <td>Bettina Bell[2]</td>\n",
              "      <td>27</td>\n",
              "      <td>Mid atlantic</td>\n",
              "      <td>REALTOR</td>\n",
              "      <td>White</td>\n",
              "      <td>3</td>\n",
              "      <td>11</td>\n",
              "      <td>NaN</td>\n",
              "      <td>NaN</td>\n",
              "      <td>NaN</td>\n",
              "    </tr>\n",
              "    <tr>\n",
              "      <th>3</th>\n",
              "      <td>Sheena Stewart[3]</td>\n",
              "      <td>23</td>\n",
              "      <td>West</td>\n",
              "      <td>EXECUTIVE</td>\n",
              "      <td>White</td>\n",
              "      <td>4</td>\n",
              "      <td>11</td>\n",
              "      <td>NaN</td>\n",
              "      <td>NaN</td>\n",
              "      <td>NaN</td>\n",
              "    </tr>\n",
              "    <tr>\n",
              "      <th>4</th>\n",
              "      <td>Hillary Reisinger[4]</td>\n",
              "      <td>27</td>\n",
              "      <td>Mid atlantic</td>\n",
              "      <td>MEDICAL</td>\n",
              "      <td>White</td>\n",
              "      <td>5</td>\n",
              "      <td>11</td>\n",
              "      <td>NaN</td>\n",
              "      <td>NaN</td>\n",
              "      <td>NaN</td>\n",
              "    </tr>\n",
              "    <tr>\n",
              "      <th>...</th>\n",
              "      <td>...</td>\n",
              "      <td>...</td>\n",
              "      <td>...</td>\n",
              "      <td>...</td>\n",
              "      <td>...</td>\n",
              "      <td>...</td>\n",
              "      <td>...</td>\n",
              "      <td>...</td>\n",
              "      <td>...</td>\n",
              "      <td>...</td>\n",
              "    </tr>\n",
              "    <tr>\n",
              "      <th>417</th>\n",
              "      <td>Casandra Suarez[45]</td>\n",
              "      <td>25</td>\n",
              "      <td>West</td>\n",
              "      <td>POLITICS</td>\n",
              "      <td>Hispanic</td>\n",
              "      <td>25</td>\n",
              "      <td>25</td>\n",
              "      <td>NaN</td>\n",
              "      <td>NaN</td>\n",
              "      <td>NaN</td>\n",
              "    </tr>\n",
              "    <tr>\n",
              "      <th>418</th>\n",
              "      <td>Corrinne Jones[48]</td>\n",
              "      <td>22</td>\n",
              "      <td>East</td>\n",
              "      <td>MARKETING</td>\n",
              "      <td>White</td>\n",
              "      <td>25</td>\n",
              "      <td>25</td>\n",
              "      <td>NaN</td>\n",
              "      <td>NaN</td>\n",
              "      <td>NaN</td>\n",
              "    </tr>\n",
              "    <tr>\n",
              "      <th>419</th>\n",
              "      <td>Emani Curl[49]</td>\n",
              "      <td>25</td>\n",
              "      <td>West</td>\n",
              "      <td>REALTOR</td>\n",
              "      <td>Black</td>\n",
              "      <td>25</td>\n",
              "      <td>25</td>\n",
              "      <td>NaN</td>\n",
              "      <td>NaN</td>\n",
              "      <td>NaN</td>\n",
              "    </tr>\n",
              "    <tr>\n",
              "      <th>420</th>\n",
              "      <td>Kimberly Courneya[28]</td>\n",
              "      <td>28</td>\n",
              "      <td>Northwest</td>\n",
              "      <td>RECRUITER</td>\n",
              "      <td>Black</td>\n",
              "      <td>25</td>\n",
              "      <td>25</td>\n",
              "      <td>NaN</td>\n",
              "      <td>NaN</td>\n",
              "      <td>NaN</td>\n",
              "    </tr>\n",
              "    <tr>\n",
              "      <th>421</th>\n",
              "      <td>Saneh Ste. Claire[50]</td>\n",
              "      <td>25</td>\n",
              "      <td>South</td>\n",
              "      <td>SCIENCE/TECHNOLOGY</td>\n",
              "      <td>White</td>\n",
              "      <td>25</td>\n",
              "      <td>25</td>\n",
              "      <td>NaN</td>\n",
              "      <td>NaN</td>\n",
              "      <td>Gimmick</td>\n",
              "    </tr>\n",
              "  </tbody>\n",
              "</table>\n",
              "<p>422 rows × 10 columns</p>\n",
              "</div>\n",
              "      <button class=\"colab-df-convert\" onclick=\"convertToInteractive('df-41b2978a-cc76-4e77-8546-4632f73b054a')\"\n",
              "              title=\"Convert this dataframe to an interactive table.\"\n",
              "              style=\"display:none;\">\n",
              "        \n",
              "  <svg xmlns=\"http://www.w3.org/2000/svg\" height=\"24px\"viewBox=\"0 0 24 24\"\n",
              "       width=\"24px\">\n",
              "    <path d=\"M0 0h24v24H0V0z\" fill=\"none\"/>\n",
              "    <path d=\"M18.56 5.44l.94 2.06.94-2.06 2.06-.94-2.06-.94-.94-2.06-.94 2.06-2.06.94zm-11 1L8.5 8.5l.94-2.06 2.06-.94-2.06-.94L8.5 2.5l-.94 2.06-2.06.94zm10 10l.94 2.06.94-2.06 2.06-.94-2.06-.94-.94-2.06-.94 2.06-2.06.94z\"/><path d=\"M17.41 7.96l-1.37-1.37c-.4-.4-.92-.59-1.43-.59-.52 0-1.04.2-1.43.59L10.3 9.45l-7.72 7.72c-.78.78-.78 2.05 0 2.83L4 21.41c.39.39.9.59 1.41.59.51 0 1.02-.2 1.41-.59l7.78-7.78 2.81-2.81c.8-.78.8-2.07 0-2.86zM5.41 20L4 18.59l7.72-7.72 1.47 1.35L5.41 20z\"/>\n",
              "  </svg>\n",
              "      </button>\n",
              "      \n",
              "  <style>\n",
              "    .colab-df-container {\n",
              "      display:flex;\n",
              "      flex-wrap:wrap;\n",
              "      gap: 12px;\n",
              "    }\n",
              "\n",
              "    .colab-df-convert {\n",
              "      background-color: #E8F0FE;\n",
              "      border: none;\n",
              "      border-radius: 50%;\n",
              "      cursor: pointer;\n",
              "      display: none;\n",
              "      fill: #1967D2;\n",
              "      height: 32px;\n",
              "      padding: 0 0 0 0;\n",
              "      width: 32px;\n",
              "    }\n",
              "\n",
              "    .colab-df-convert:hover {\n",
              "      background-color: #E2EBFA;\n",
              "      box-shadow: 0px 1px 2px rgba(60, 64, 67, 0.3), 0px 1px 3px 1px rgba(60, 64, 67, 0.15);\n",
              "      fill: #174EA6;\n",
              "    }\n",
              "\n",
              "    [theme=dark] .colab-df-convert {\n",
              "      background-color: #3B4455;\n",
              "      fill: #D2E3FC;\n",
              "    }\n",
              "\n",
              "    [theme=dark] .colab-df-convert:hover {\n",
              "      background-color: #434B5C;\n",
              "      box-shadow: 0px 1px 3px 1px rgba(0, 0, 0, 0.15);\n",
              "      filter: drop-shadow(0px 1px 2px rgba(0, 0, 0, 0.3));\n",
              "      fill: #FFFFFF;\n",
              "    }\n",
              "  </style>\n",
              "\n",
              "      <script>\n",
              "        const buttonEl =\n",
              "          document.querySelector('#df-41b2978a-cc76-4e77-8546-4632f73b054a button.colab-df-convert');\n",
              "        buttonEl.style.display =\n",
              "          google.colab.kernel.accessAllowed ? 'block' : 'none';\n",
              "\n",
              "        async function convertToInteractive(key) {\n",
              "          const element = document.querySelector('#df-41b2978a-cc76-4e77-8546-4632f73b054a');\n",
              "          const dataTable =\n",
              "            await google.colab.kernel.invokeFunction('convertToInteractive',\n",
              "                                                     [key], {});\n",
              "          if (!dataTable) return;\n",
              "\n",
              "          const docLinkHtml = 'Like what you see? Visit the ' +\n",
              "            '<a target=\"_blank\" href=https://colab.research.google.com/notebooks/data_table.ipynb>data table notebook</a>'\n",
              "            + ' to learn more about interactive tables.';\n",
              "          element.innerHTML = '';\n",
              "          dataTable['output_type'] = 'display_data';\n",
              "          await google.colab.output.renderOutput(dataTable, element);\n",
              "          const docLink = document.createElement('div');\n",
              "          docLink.innerHTML = docLinkHtml;\n",
              "          element.appendChild(docLink);\n",
              "        }\n",
              "      </script>\n",
              "    </div>\n",
              "  </div>\n",
              "  "
            ]
          },
          "metadata": {},
          "execution_count": 21
        }
      ]
    },
    {
      "cell_type": "code",
      "source": [
        "data_clean = data.copy()\n",
        "for col in [\"Hometown\", \"Job category\", \"Race\", \"Joke Entrance\"]:\n",
        "  # print( {name:i for i, name in enumerate(data[col].unique())} )\n",
        "  data_clean = data_clean.replace( {name:i for i, name in enumerate(data[col].unique())} )\n",
        "\n",
        "data_clean['FIR'] = np.where( data_clean['FIR?'] == 'Yes' , 1 , 0)\n",
        "\n",
        "data_clean = data_clean.drop(columns=['Name','FIR?', 'Joke Entrance'])\n",
        "\n",
        "new_job_cat = {\n",
        "    'POLITICS':['NEWS', 'MILLITARY', 'POLITICS'],\n",
        "    'CORPORATE':['MARKETING', 'PR', 'RECRUITER', 'ASSISTANT', 'EXECUTIVE', 'SALES', 'FINANCE'],\n",
        "    'TRADES':['RESTAURANT JOB', 'WAITRESS', 'BEAUTY', 'ACTRESS/MODEL', 'DANCER', 'REALTOR', 'EVENT PLANNER', 'FITNESS', 'NANNY'],\n",
        "    'TRADITIONAL':['TEACHER','DENTIST', 'LAWYER', 'MEDICAL', 'SCIENCE/TECHNOLOGY'],\n",
        "    'OTHER':['STUDENTT', 'STUDENT', 'WRITER', 'PASTOR', 'ART', 'NONE', 'JOKE', 'FLIGHT ATTENDANT'],\n",
        "}\n",
        "\n",
        "job_categories = data['Job category'].to_numpy()\n",
        "new_job_categories = []\n",
        "for name in job_categories:\n",
        "  for key, val in new_job_cat.items():\n",
        "    if name in val:\n",
        "      new_name = key\n",
        "  new_job_categories.append( new_name )\n",
        "\n",
        "data_clean['Job category'] = np.array(new_job_categories)\n",
        "\n",
        "\n",
        "new_hometown_cat = {\n",
        "    'INTERNATIONAL':['Canada','International'],\n",
        "    'NE':['Midwestt','East','Midwest','Mid atlantic'],\n",
        "    'NW':['West','Northwest'],\n",
        "    'SE':['South',],\n",
        "    'SW':['Southwest']\n",
        "}\n",
        "home_categories = data['Hometown'].to_numpy()\n",
        "new_home_categories = []\n",
        "for name in home_categories:\n",
        "  for key, val in new_hometown_cat.items():\n",
        "    if name in val:\n",
        "      new_name = key\n",
        "  new_home_categories.append( new_name )\n",
        "\n",
        "data_clean['Hometown'] = np.array(new_home_categories)\n",
        "\n",
        "\n",
        "one_hot_dfs = [data_clean]\n",
        "col_name_one_hot = ['Hometown', 'Race', 'Job category']\n",
        "\n",
        "for name in col_name_one_hot:\n",
        "  num_un = data_clean[name].nunique()\n",
        "  one_hot = pd.get_dummies( data_clean[name] )\n",
        "  one_hot.rename( columns={i:name+f'_{i}' for i in range(num_un)}, inplace=True)\n",
        "  one_hot_dfs.append( one_hot )\n",
        "\n",
        "\n",
        "combined_df = pd.concat( one_hot_dfs, axis=1 )\n",
        "combined_df = combined_df.drop(columns=['Hometown','Job category', 'Race'])\n",
        "\n",
        "combined_df"
      ],
      "metadata": {
        "colab": {
          "base_uri": "https://localhost:8080/",
          "height": 411
        },
        "id": "Edmw4UO_lLeW",
        "outputId": "b66e9495-5c8c-4dad-feed-1cbde8cfa71e"
      },
      "execution_count": null,
      "outputs": [
        {
          "output_type": "execute_result",
          "data": {
            "text/plain": [
              "     Age  Place  Season   1-on-1 week  FIR  INTERNATIONAL  NE  NW  SE  SW  \\\n",
              "0     25      2       11          0.0    0              0   0   0   1   0   \n",
              "1     27      2       11          0.0    1              0   1   0   0   0   \n",
              "2     27      3       11          0.0    0              0   1   0   0   0   \n",
              "3     23      4       11          0.0    0              0   0   1   0   0   \n",
              "4     27      5       11          0.0    0              0   1   0   0   0   \n",
              "..   ...    ...      ...          ...  ...            ...  ..  ..  ..  ..   \n",
              "417   25     25       25          0.0    0              0   0   1   0   0   \n",
              "418   22     25       25          0.0    0              0   1   0   0   0   \n",
              "419   25     25       25          0.0    0              0   0   1   0   0   \n",
              "420   28     25       25          0.0    0              0   0   1   0   0   \n",
              "421   25     25       25          0.0    0              0   0   0   1   0   \n",
              "\n",
              "     Race_0  Race_1  Race_2  Race_3  Race_4  CORPORATE  OTHER  POLITICS  \\\n",
              "0         1       0       0       0       0          0      0         0   \n",
              "1         1       0       0       0       0          0      0         0   \n",
              "2         1       0       0       0       0          0      0         0   \n",
              "3         1       0       0       0       0          1      0         0   \n",
              "4         1       0       0       0       0          0      0         0   \n",
              "..      ...     ...     ...     ...     ...        ...    ...       ...   \n",
              "417       0       0       0       1       0          0      0         1   \n",
              "418       1       0       0       0       0          1      0         0   \n",
              "419       0       1       0       0       0          0      0         0   \n",
              "420       0       1       0       0       0          1      0         0   \n",
              "421       1       0       0       0       0          0      0         0   \n",
              "\n",
              "     TRADES  TRADITIONAL  \n",
              "0         1            0  \n",
              "1         1            0  \n",
              "2         1            0  \n",
              "3         0            0  \n",
              "4         0            1  \n",
              "..      ...          ...  \n",
              "417       0            0  \n",
              "418       0            0  \n",
              "419       1            0  \n",
              "420       0            0  \n",
              "421       0            1  \n",
              "\n",
              "[422 rows x 20 columns]"
            ],
            "text/html": [
              "\n",
              "  <div id=\"df-5fa25c52-9209-4064-ab80-64ef742d0e75\">\n",
              "    <div class=\"colab-df-container\">\n",
              "      <div>\n",
              "<style scoped>\n",
              "    .dataframe tbody tr th:only-of-type {\n",
              "        vertical-align: middle;\n",
              "    }\n",
              "\n",
              "    .dataframe tbody tr th {\n",
              "        vertical-align: top;\n",
              "    }\n",
              "\n",
              "    .dataframe thead th {\n",
              "        text-align: right;\n",
              "    }\n",
              "</style>\n",
              "<table border=\"1\" class=\"dataframe\">\n",
              "  <thead>\n",
              "    <tr style=\"text-align: right;\">\n",
              "      <th></th>\n",
              "      <th>Age</th>\n",
              "      <th>Place</th>\n",
              "      <th>Season</th>\n",
              "      <th>1-on-1 week</th>\n",
              "      <th>FIR</th>\n",
              "      <th>INTERNATIONAL</th>\n",
              "      <th>NE</th>\n",
              "      <th>NW</th>\n",
              "      <th>SE</th>\n",
              "      <th>SW</th>\n",
              "      <th>Race_0</th>\n",
              "      <th>Race_1</th>\n",
              "      <th>Race_2</th>\n",
              "      <th>Race_3</th>\n",
              "      <th>Race_4</th>\n",
              "      <th>CORPORATE</th>\n",
              "      <th>OTHER</th>\n",
              "      <th>POLITICS</th>\n",
              "      <th>TRADES</th>\n",
              "      <th>TRADITIONAL</th>\n",
              "    </tr>\n",
              "  </thead>\n",
              "  <tbody>\n",
              "    <tr>\n",
              "      <th>0</th>\n",
              "      <td>25</td>\n",
              "      <td>2</td>\n",
              "      <td>11</td>\n",
              "      <td>0.0</td>\n",
              "      <td>0</td>\n",
              "      <td>0</td>\n",
              "      <td>0</td>\n",
              "      <td>0</td>\n",
              "      <td>1</td>\n",
              "      <td>0</td>\n",
              "      <td>1</td>\n",
              "      <td>0</td>\n",
              "      <td>0</td>\n",
              "      <td>0</td>\n",
              "      <td>0</td>\n",
              "      <td>0</td>\n",
              "      <td>0</td>\n",
              "      <td>0</td>\n",
              "      <td>1</td>\n",
              "      <td>0</td>\n",
              "    </tr>\n",
              "    <tr>\n",
              "      <th>1</th>\n",
              "      <td>27</td>\n",
              "      <td>2</td>\n",
              "      <td>11</td>\n",
              "      <td>0.0</td>\n",
              "      <td>1</td>\n",
              "      <td>0</td>\n",
              "      <td>1</td>\n",
              "      <td>0</td>\n",
              "      <td>0</td>\n",
              "      <td>0</td>\n",
              "      <td>1</td>\n",
              "      <td>0</td>\n",
              "      <td>0</td>\n",
              "      <td>0</td>\n",
              "      <td>0</td>\n",
              "      <td>0</td>\n",
              "      <td>0</td>\n",
              "      <td>0</td>\n",
              "      <td>1</td>\n",
              "      <td>0</td>\n",
              "    </tr>\n",
              "    <tr>\n",
              "      <th>2</th>\n",
              "      <td>27</td>\n",
              "      <td>3</td>\n",
              "      <td>11</td>\n",
              "      <td>0.0</td>\n",
              "      <td>0</td>\n",
              "      <td>0</td>\n",
              "      <td>1</td>\n",
              "      <td>0</td>\n",
              "      <td>0</td>\n",
              "      <td>0</td>\n",
              "      <td>1</td>\n",
              "      <td>0</td>\n",
              "      <td>0</td>\n",
              "      <td>0</td>\n",
              "      <td>0</td>\n",
              "      <td>0</td>\n",
              "      <td>0</td>\n",
              "      <td>0</td>\n",
              "      <td>1</td>\n",
              "      <td>0</td>\n",
              "    </tr>\n",
              "    <tr>\n",
              "      <th>3</th>\n",
              "      <td>23</td>\n",
              "      <td>4</td>\n",
              "      <td>11</td>\n",
              "      <td>0.0</td>\n",
              "      <td>0</td>\n",
              "      <td>0</td>\n",
              "      <td>0</td>\n",
              "      <td>1</td>\n",
              "      <td>0</td>\n",
              "      <td>0</td>\n",
              "      <td>1</td>\n",
              "      <td>0</td>\n",
              "      <td>0</td>\n",
              "      <td>0</td>\n",
              "      <td>0</td>\n",
              "      <td>1</td>\n",
              "      <td>0</td>\n",
              "      <td>0</td>\n",
              "      <td>0</td>\n",
              "      <td>0</td>\n",
              "    </tr>\n",
              "    <tr>\n",
              "      <th>4</th>\n",
              "      <td>27</td>\n",
              "      <td>5</td>\n",
              "      <td>11</td>\n",
              "      <td>0.0</td>\n",
              "      <td>0</td>\n",
              "      <td>0</td>\n",
              "      <td>1</td>\n",
              "      <td>0</td>\n",
              "      <td>0</td>\n",
              "      <td>0</td>\n",
              "      <td>1</td>\n",
              "      <td>0</td>\n",
              "      <td>0</td>\n",
              "      <td>0</td>\n",
              "      <td>0</td>\n",
              "      <td>0</td>\n",
              "      <td>0</td>\n",
              "      <td>0</td>\n",
              "      <td>0</td>\n",
              "      <td>1</td>\n",
              "    </tr>\n",
              "    <tr>\n",
              "      <th>...</th>\n",
              "      <td>...</td>\n",
              "      <td>...</td>\n",
              "      <td>...</td>\n",
              "      <td>...</td>\n",
              "      <td>...</td>\n",
              "      <td>...</td>\n",
              "      <td>...</td>\n",
              "      <td>...</td>\n",
              "      <td>...</td>\n",
              "      <td>...</td>\n",
              "      <td>...</td>\n",
              "      <td>...</td>\n",
              "      <td>...</td>\n",
              "      <td>...</td>\n",
              "      <td>...</td>\n",
              "      <td>...</td>\n",
              "      <td>...</td>\n",
              "      <td>...</td>\n",
              "      <td>...</td>\n",
              "      <td>...</td>\n",
              "    </tr>\n",
              "    <tr>\n",
              "      <th>417</th>\n",
              "      <td>25</td>\n",
              "      <td>25</td>\n",
              "      <td>25</td>\n",
              "      <td>0.0</td>\n",
              "      <td>0</td>\n",
              "      <td>0</td>\n",
              "      <td>0</td>\n",
              "      <td>1</td>\n",
              "      <td>0</td>\n",
              "      <td>0</td>\n",
              "      <td>0</td>\n",
              "      <td>0</td>\n",
              "      <td>0</td>\n",
              "      <td>1</td>\n",
              "      <td>0</td>\n",
              "      <td>0</td>\n",
              "      <td>0</td>\n",
              "      <td>1</td>\n",
              "      <td>0</td>\n",
              "      <td>0</td>\n",
              "    </tr>\n",
              "    <tr>\n",
              "      <th>418</th>\n",
              "      <td>22</td>\n",
              "      <td>25</td>\n",
              "      <td>25</td>\n",
              "      <td>0.0</td>\n",
              "      <td>0</td>\n",
              "      <td>0</td>\n",
              "      <td>1</td>\n",
              "      <td>0</td>\n",
              "      <td>0</td>\n",
              "      <td>0</td>\n",
              "      <td>1</td>\n",
              "      <td>0</td>\n",
              "      <td>0</td>\n",
              "      <td>0</td>\n",
              "      <td>0</td>\n",
              "      <td>1</td>\n",
              "      <td>0</td>\n",
              "      <td>0</td>\n",
              "      <td>0</td>\n",
              "      <td>0</td>\n",
              "    </tr>\n",
              "    <tr>\n",
              "      <th>419</th>\n",
              "      <td>25</td>\n",
              "      <td>25</td>\n",
              "      <td>25</td>\n",
              "      <td>0.0</td>\n",
              "      <td>0</td>\n",
              "      <td>0</td>\n",
              "      <td>0</td>\n",
              "      <td>1</td>\n",
              "      <td>0</td>\n",
              "      <td>0</td>\n",
              "      <td>0</td>\n",
              "      <td>1</td>\n",
              "      <td>0</td>\n",
              "      <td>0</td>\n",
              "      <td>0</td>\n",
              "      <td>0</td>\n",
              "      <td>0</td>\n",
              "      <td>0</td>\n",
              "      <td>1</td>\n",
              "      <td>0</td>\n",
              "    </tr>\n",
              "    <tr>\n",
              "      <th>420</th>\n",
              "      <td>28</td>\n",
              "      <td>25</td>\n",
              "      <td>25</td>\n",
              "      <td>0.0</td>\n",
              "      <td>0</td>\n",
              "      <td>0</td>\n",
              "      <td>0</td>\n",
              "      <td>1</td>\n",
              "      <td>0</td>\n",
              "      <td>0</td>\n",
              "      <td>0</td>\n",
              "      <td>1</td>\n",
              "      <td>0</td>\n",
              "      <td>0</td>\n",
              "      <td>0</td>\n",
              "      <td>1</td>\n",
              "      <td>0</td>\n",
              "      <td>0</td>\n",
              "      <td>0</td>\n",
              "      <td>0</td>\n",
              "    </tr>\n",
              "    <tr>\n",
              "      <th>421</th>\n",
              "      <td>25</td>\n",
              "      <td>25</td>\n",
              "      <td>25</td>\n",
              "      <td>0.0</td>\n",
              "      <td>0</td>\n",
              "      <td>0</td>\n",
              "      <td>0</td>\n",
              "      <td>0</td>\n",
              "      <td>1</td>\n",
              "      <td>0</td>\n",
              "      <td>1</td>\n",
              "      <td>0</td>\n",
              "      <td>0</td>\n",
              "      <td>0</td>\n",
              "      <td>0</td>\n",
              "      <td>0</td>\n",
              "      <td>0</td>\n",
              "      <td>0</td>\n",
              "      <td>0</td>\n",
              "      <td>1</td>\n",
              "    </tr>\n",
              "  </tbody>\n",
              "</table>\n",
              "<p>422 rows × 20 columns</p>\n",
              "</div>\n",
              "      <button class=\"colab-df-convert\" onclick=\"convertToInteractive('df-5fa25c52-9209-4064-ab80-64ef742d0e75')\"\n",
              "              title=\"Convert this dataframe to an interactive table.\"\n",
              "              style=\"display:none;\">\n",
              "        \n",
              "  <svg xmlns=\"http://www.w3.org/2000/svg\" height=\"24px\"viewBox=\"0 0 24 24\"\n",
              "       width=\"24px\">\n",
              "    <path d=\"M0 0h24v24H0V0z\" fill=\"none\"/>\n",
              "    <path d=\"M18.56 5.44l.94 2.06.94-2.06 2.06-.94-2.06-.94-.94-2.06-.94 2.06-2.06.94zm-11 1L8.5 8.5l.94-2.06 2.06-.94-2.06-.94L8.5 2.5l-.94 2.06-2.06.94zm10 10l.94 2.06.94-2.06 2.06-.94-2.06-.94-.94-2.06-.94 2.06-2.06.94z\"/><path d=\"M17.41 7.96l-1.37-1.37c-.4-.4-.92-.59-1.43-.59-.52 0-1.04.2-1.43.59L10.3 9.45l-7.72 7.72c-.78.78-.78 2.05 0 2.83L4 21.41c.39.39.9.59 1.41.59.51 0 1.02-.2 1.41-.59l7.78-7.78 2.81-2.81c.8-.78.8-2.07 0-2.86zM5.41 20L4 18.59l7.72-7.72 1.47 1.35L5.41 20z\"/>\n",
              "  </svg>\n",
              "      </button>\n",
              "      \n",
              "  <style>\n",
              "    .colab-df-container {\n",
              "      display:flex;\n",
              "      flex-wrap:wrap;\n",
              "      gap: 12px;\n",
              "    }\n",
              "\n",
              "    .colab-df-convert {\n",
              "      background-color: #E8F0FE;\n",
              "      border: none;\n",
              "      border-radius: 50%;\n",
              "      cursor: pointer;\n",
              "      display: none;\n",
              "      fill: #1967D2;\n",
              "      height: 32px;\n",
              "      padding: 0 0 0 0;\n",
              "      width: 32px;\n",
              "    }\n",
              "\n",
              "    .colab-df-convert:hover {\n",
              "      background-color: #E2EBFA;\n",
              "      box-shadow: 0px 1px 2px rgba(60, 64, 67, 0.3), 0px 1px 3px 1px rgba(60, 64, 67, 0.15);\n",
              "      fill: #174EA6;\n",
              "    }\n",
              "\n",
              "    [theme=dark] .colab-df-convert {\n",
              "      background-color: #3B4455;\n",
              "      fill: #D2E3FC;\n",
              "    }\n",
              "\n",
              "    [theme=dark] .colab-df-convert:hover {\n",
              "      background-color: #434B5C;\n",
              "      box-shadow: 0px 1px 3px 1px rgba(0, 0, 0, 0.15);\n",
              "      filter: drop-shadow(0px 1px 2px rgba(0, 0, 0, 0.3));\n",
              "      fill: #FFFFFF;\n",
              "    }\n",
              "  </style>\n",
              "\n",
              "      <script>\n",
              "        const buttonEl =\n",
              "          document.querySelector('#df-5fa25c52-9209-4064-ab80-64ef742d0e75 button.colab-df-convert');\n",
              "        buttonEl.style.display =\n",
              "          google.colab.kernel.accessAllowed ? 'block' : 'none';\n",
              "\n",
              "        async function convertToInteractive(key) {\n",
              "          const element = document.querySelector('#df-5fa25c52-9209-4064-ab80-64ef742d0e75');\n",
              "          const dataTable =\n",
              "            await google.colab.kernel.invokeFunction('convertToInteractive',\n",
              "                                                     [key], {});\n",
              "          if (!dataTable) return;\n",
              "\n",
              "          const docLinkHtml = 'Like what you see? Visit the ' +\n",
              "            '<a target=\"_blank\" href=https://colab.research.google.com/notebooks/data_table.ipynb>data table notebook</a>'\n",
              "            + ' to learn more about interactive tables.';\n",
              "          element.innerHTML = '';\n",
              "          dataTable['output_type'] = 'display_data';\n",
              "          await google.colab.output.renderOutput(dataTable, element);\n",
              "          const docLink = document.createElement('div');\n",
              "          docLink.innerHTML = docLinkHtml;\n",
              "          element.appendChild(docLink);\n",
              "        }\n",
              "      </script>\n",
              "    </div>\n",
              "  </div>\n",
              "  "
            ]
          },
          "metadata": {},
          "execution_count": 22
        }
      ]
    },
    {
      "cell_type": "code",
      "source": [
        "combined_df.Place.hist(bins=25)"
      ],
      "metadata": {
        "colab": {
          "base_uri": "https://localhost:8080/",
          "height": 282
        },
        "id": "3_aXzNLgROns",
        "outputId": "7a11ec15-ad85-4e63-c5a0-14026245cb43"
      },
      "execution_count": null,
      "outputs": [
        {
          "output_type": "execute_result",
          "data": {
            "text/plain": [
              "<matplotlib.axes._subplots.AxesSubplot at 0x7f5bd057ea90>"
            ]
          },
          "metadata": {},
          "execution_count": 23
        },
        {
          "output_type": "display_data",
          "data": {
            "text/plain": [
              "<Figure size 432x288 with 1 Axes>"
            ],
            "image/png": "[encoded data removed]"
          },
          "metadata": {
            "needs_background": "light"
          }
        }
      ]
    },
    {
      "cell_type": "code",
      "source": [
        "# combined_df.drop(columns=['Season '], inplace=True)"
      ],
      "metadata": {
        "id": "qw6Sc9o9jnYy"
      },
      "execution_count": null,
      "outputs": []
    },
    {
      "cell_type": "code",
      "source": [
        "print( combined_df.Place.value_counts().head() )\n",
        "\n",
        "# Place 16 is over represented in the data set, lets try and reduce this to a 28 (compared to 58)\n",
        "\n",
        "locs_to_remove = np.random.choice(np.where(combined_df.Place == 16)[0], size=37)\n",
        "\n",
        "combined_df.drop(index=locs_to_remove, inplace=True)\n",
        "\n",
        "print( combined_df.Place.value_counts().head() )\n",
        "\n",
        "combined_df.Place.hist(bins=25)"
      ],
      "metadata": {
        "colab": {
          "base_uri": "https://localhost:8080/",
          "height": 480
        },
        "id": "3lcZXXFFnvUG",
        "outputId": "18d85254-2a14-43f0-8d46-e6ed2658672c"
      },
      "execution_count": null,
      "outputs": [
        {
          "output_type": "stream",
          "name": "stdout",
          "text": [
            "16    58\n",
            "19    29\n",
            "10    20\n",
            "12    19\n",
            "6     18\n",
            "Name: Place, dtype: int64\n",
            "16    29\n",
            "19    29\n",
            "10    20\n",
            "12    19\n",
            "6     18\n",
            "Name: Place, dtype: int64\n"
          ]
        },
        {
          "output_type": "execute_result",
          "data": {
            "text/plain": [
              "<matplotlib.axes._subplots.AxesSubplot at 0x7f5bcdbe7410>"
            ]
          },
          "metadata": {},
          "execution_count": 24
        },
        {
          "output_type": "display_data",
          "data": {
            "text/plain": [
              "<Figure size 432x288 with 1 Axes>"
            ],
            "image/png": "[encoded data removed]"
          },
          "metadata": {
            "needs_background": "light"
          }
        }
      ]
    },
    {
      "cell_type": "code",
      "source": [
        "# all possible combinations to see which combo is best\n",
        "determine = pd.DataFrame(index=pd.MultiIndex.from_product([combined_df[col].unique() for col in combined_df.columns.drop(['Place', 'Season '])], \n",
        "                                                          names=combined_df.columns.drop(['Place', 'Season ']))).reset_index()\n",
        "\n",
        "determine"
      ],
      "metadata": {
        "colab": {
          "base_uri": "https://localhost:8080/",
          "height": 411
        },
        "id": "EhS34bzPDxOh",
        "outputId": "dd497761-deb3-49f3-c22d-0544604960dc"
      },
      "execution_count": null,
      "outputs": [
        {
          "output_type": "execute_result",
          "data": {
            "text/plain": [
              "         Age  1-on-1 week  FIR  INTERNATIONAL  NE  NW  SE  SW  Race_0  Race_1  \\\n",
              "0         25          0.0    0              0   0   0   1   0       1       0   \n",
              "1         25          0.0    0              0   0   0   1   0       1       0   \n",
              "2         25          0.0    0              0   0   0   1   0       1       0   \n",
              "3         25          0.0    0              0   0   0   1   0       1       0   \n",
              "4         25          0.0    0              0   0   0   1   0       1       0   \n",
              "...      ...          ...  ...            ...  ..  ..  ..  ..     ...     ...   \n",
              "7340027   21          5.0    1              1   1   1   0   1       0       1   \n",
              "7340028   21          5.0    1              1   1   1   0   1       0       1   \n",
              "7340029   21          5.0    1              1   1   1   0   1       0       1   \n",
              "7340030   21          5.0    1              1   1   1   0   1       0       1   \n",
              "7340031   21          5.0    1              1   1   1   0   1       0       1   \n",
              "\n",
              "         Race_2  Race_3  Race_4  CORPORATE  OTHER  POLITICS  TRADES  \\\n",
              "0             0       0       0          0      0         0       1   \n",
              "1             0       0       0          0      0         0       1   \n",
              "2             0       0       0          0      0         0       0   \n",
              "3             0       0       0          0      0         0       0   \n",
              "4             0       0       0          0      0         1       1   \n",
              "...         ...     ...     ...        ...    ...       ...     ...   \n",
              "7340027       1       1       1          1      1         0       0   \n",
              "7340028       1       1       1          1      1         1       1   \n",
              "7340029       1       1       1          1      1         1       1   \n",
              "7340030       1       1       1          1      1         1       0   \n",
              "7340031       1       1       1          1      1         1       0   \n",
              "\n",
              "         TRADITIONAL  \n",
              "0                  0  \n",
              "1                  1  \n",
              "2                  0  \n",
              "3                  1  \n",
              "4                  0  \n",
              "...              ...  \n",
              "7340027            1  \n",
              "7340028            0  \n",
              "7340029            1  \n",
              "7340030            0  \n",
              "7340031            1  \n",
              "\n",
              "[7340032 rows x 18 columns]"
            ],
            "text/html": [
              "\n",
              "  <div id=\"df-b9db0151-fccf-45b8-82e2-e92ad1cebc61\">\n",
              "    <div class=\"colab-df-container\">\n",
              "      <div>\n",
              "<style scoped>\n",
              "    .dataframe tbody tr th:only-of-type {\n",
              "        vertical-align: middle;\n",
              "    }\n",
              "\n",
              "    .dataframe tbody tr th {\n",
              "        vertical-align: top;\n",
              "    }\n",
              "\n",
              "    .dataframe thead th {\n",
              "        text-align: right;\n",
              "    }\n",
              "</style>\n",
              "<table border=\"1\" class=\"dataframe\">\n",
              "  <thead>\n",
              "    <tr style=\"text-align: right;\">\n",
              "      <th></th>\n",
              "      <th>Age</th>\n",
              "      <th>1-on-1 week</th>\n",
              "      <th>FIR</th>\n",
              "      <th>INTERNATIONAL</th>\n",
              "      <th>NE</th>\n",
              "      <th>NW</th>\n",
              "      <th>SE</th>\n",
              "      <th>SW</th>\n",
              "      <th>Race_0</th>\n",
              "      <th>Race_1</th>\n",
              "      <th>Race_2</th>\n",
              "      <th>Race_3</th>\n",
              "      <th>Race_4</th>\n",
              "      <th>CORPORATE</th>\n",
              "      <th>OTHER</th>\n",
              "      <th>POLITICS</th>\n",
              "      <th>TRADES</th>\n",
              "      <th>TRADITIONAL</th>\n",
              "    </tr>\n",
              "  </thead>\n",
              "  <tbody>\n",
              "    <tr>\n",
              "      <th>0</th>\n",
              "      <td>25</td>\n",
              "      <td>0.0</td>\n",
              "      <td>0</td>\n",
              "      <td>0</td>\n",
              "      <td>0</td>\n",
              "      <td>0</td>\n",
              "      <td>1</td>\n",
              "      <td>0</td>\n",
              "      <td>1</td>\n",
              "      <td>0</td>\n",
              "      <td>0</td>\n",
              "      <td>0</td>\n",
              "      <td>0</td>\n",
              "      <td>0</td>\n",
              "      <td>0</td>\n",
              "      <td>0</td>\n",
              "      <td>1</td>\n",
              "      <td>0</td>\n",
              "    </tr>\n",
              "    <tr>\n",
              "      <th>1</th>\n",
              "      <td>25</td>\n",
              "      <td>0.0</td>\n",
              "      <td>0</td>\n",
              "      <td>0</td>\n",
              "      <td>0</td>\n",
              "      <td>0</td>\n",
              "      <td>1</td>\n",
              "      <td>0</td>\n",
              "      <td>1</td>\n",
              "      <td>0</td>\n",
              "      <td>0</td>\n",
              "      <td>0</td>\n",
              "      <td>0</td>\n",
              "      <td>0</td>\n",
              "      <td>0</td>\n",
              "      <td>0</td>\n",
              "      <td>1</td>\n",
              "      <td>1</td>\n",
              "    </tr>\n",
              "    <tr>\n",
              "      <th>2</th>\n",
              "      <td>25</td>\n",
              "      <td>0.0</td>\n",
              "      <td>0</td>\n",
              "      <td>0</td>\n",
              "      <td>0</td>\n",
              "      <td>0</td>\n",
              "      <td>1</td>\n",
              "      <td>0</td>\n",
              "      <td>1</td>\n",
              "      <td>0</td>\n",
              "      <td>0</td>\n",
              "      <td>0</td>\n",
              "      <td>0</td>\n",
              "      <td>0</td>\n",
              "      <td>0</td>\n",
              "      <td>0</td>\n",
              "      <td>0</td>\n",
              "      <td>0</td>\n",
              "    </tr>\n",
              "    <tr>\n",
              "      <th>3</th>\n",
              "      <td>25</td>\n",
              "      <td>0.0</td>\n",
              "      <td>0</td>\n",
              "      <td>0</td>\n",
              "      <td>0</td>\n",
              "      <td>0</td>\n",
              "      <td>1</td>\n",
              "      <td>0</td>\n",
              "      <td>1</td>\n",
              "      <td>0</td>\n",
              "      <td>0</td>\n",
              "      <td>0</td>\n",
              "      <td>0</td>\n",
              "      <td>0</td>\n",
              "      <td>0</td>\n",
              "      <td>0</td>\n",
              "      <td>0</td>\n",
              "      <td>1</td>\n",
              "    </tr>\n",
              "    <tr>\n",
              "      <th>4</th>\n",
              "      <td>25</td>\n",
              "      <td>0.0</td>\n",
              "      <td>0</td>\n",
              "      <td>0</td>\n",
              "      <td>0</td>\n",
              "      <td>0</td>\n",
              "      <td>1</td>\n",
              "      <td>0</td>\n",
              "      <td>1</td>\n",
              "      <td>0</td>\n",
              "      <td>0</td>\n",
              "      <td>0</td>\n",
              "      <td>0</td>\n",
              "      <td>0</td>\n",
              "      <td>0</td>\n",
              "      <td>1</td>\n",
              "      <td>1</td>\n",
              "      <td>0</td>\n",
              "    </tr>\n",
              "    <tr>\n",
              "      <th>...</th>\n",
              "      <td>...</td>\n",
              "      <td>...</td>\n",
              "      <td>...</td>\n",
              "      <td>...</td>\n",
              "      <td>...</td>\n",
              "      <td>...</td>\n",
              "      <td>...</td>\n",
              "      <td>...</td>\n",
              "      <td>...</td>\n",
              "      <td>...</td>\n",
              "      <td>...</td>\n",
              "      <td>...</td>\n",
              "      <td>...</td>\n",
              "      <td>...</td>\n",
              "      <td>...</td>\n",
              "      <td>...</td>\n",
              "      <td>...</td>\n",
              "      <td>...</td>\n",
              "    </tr>\n",
              "    <tr>\n",
              "      <th>7340027</th>\n",
              "      <td>21</td>\n",
              "      <td>5.0</td>\n",
              "      <td>1</td>\n",
              "      <td>1</td>\n",
              "      <td>1</td>\n",
              "      <td>1</td>\n",
              "      <td>0</td>\n",
              "      <td>1</td>\n",
              "      <td>0</td>\n",
              "      <td>1</td>\n",
              "      <td>1</td>\n",
              "      <td>1</td>\n",
              "      <td>1</td>\n",
              "      <td>1</td>\n",
              "      <td>1</td>\n",
              "      <td>0</td>\n",
              "      <td>0</td>\n",
              "      <td>1</td>\n",
              "    </tr>\n",
              "    <tr>\n",
              "      <th>7340028</th>\n",
              "      <td>21</td>\n",
              "      <td>5.0</td>\n",
              "      <td>1</td>\n",
              "      <td>1</td>\n",
              "      <td>1</td>\n",
              "      <td>1</td>\n",
              "      <td>0</td>\n",
              "      <td>1</td>\n",
              "      <td>0</td>\n",
              "      <td>1</td>\n",
              "      <td>1</td>\n",
              "      <td>1</td>\n",
              "      <td>1</td>\n",
              "      <td>1</td>\n",
              "      <td>1</td>\n",
              "      <td>1</td>\n",
              "      <td>1</td>\n",
              "      <td>0</td>\n",
              "    </tr>\n",
              "    <tr>\n",
              "      <th>7340029</th>\n",
              "      <td>21</td>\n",
              "      <td>5.0</td>\n",
              "      <td>1</td>\n",
              "      <td>1</td>\n",
              "      <td>1</td>\n",
              "      <td>1</td>\n",
              "      <td>0</td>\n",
              "      <td>1</td>\n",
              "      <td>0</td>\n",
              "      <td>1</td>\n",
              "      <td>1</td>\n",
              "      <td>1</td>\n",
              "      <td>1</td>\n",
              "      <td>1</td>\n",
              "      <td>1</td>\n",
              "      <td>1</td>\n",
              "      <td>1</td>\n",
              "      <td>1</td>\n",
              "    </tr>\n",
              "    <tr>\n",
              "      <th>7340030</th>\n",
              "      <td>21</td>\n",
              "      <td>5.0</td>\n",
              "      <td>1</td>\n",
              "      <td>1</td>\n",
              "      <td>1</td>\n",
              "      <td>1</td>\n",
              "      <td>0</td>\n",
              "      <td>1</td>\n",
              "      <td>0</td>\n",
              "      <td>1</td>\n",
              "      <td>1</td>\n",
              "      <td>1</td>\n",
              "      <td>1</td>\n",
              "      <td>1</td>\n",
              "      <td>1</td>\n",
              "      <td>1</td>\n",
              "      <td>0</td>\n",
              "      <td>0</td>\n",
              "    </tr>\n",
              "    <tr>\n",
              "      <th>7340031</th>\n",
              "      <td>21</td>\n",
              "      <td>5.0</td>\n",
              "      <td>1</td>\n",
              "      <td>1</td>\n",
              "      <td>1</td>\n",
              "      <td>1</td>\n",
              "      <td>0</td>\n",
              "      <td>1</td>\n",
              "      <td>0</td>\n",
              "      <td>1</td>\n",
              "      <td>1</td>\n",
              "      <td>1</td>\n",
              "      <td>1</td>\n",
              "      <td>1</td>\n",
              "      <td>1</td>\n",
              "      <td>1</td>\n",
              "      <td>0</td>\n",
              "      <td>1</td>\n",
              "    </tr>\n",
              "  </tbody>\n",
              "</table>\n",
              "<p>7340032 rows × 18 columns</p>\n",
              "</div>\n",
              "      <button class=\"colab-df-convert\" onclick=\"convertToInteractive('df-b9db0151-fccf-45b8-82e2-e92ad1cebc61')\"\n",
              "              title=\"Convert this dataframe to an interactive table.\"\n",
              "              style=\"display:none;\">\n",
              "        \n",
              "  <svg xmlns=\"http://www.w3.org/2000/svg\" height=\"24px\"viewBox=\"0 0 24 24\"\n",
              "       width=\"24px\">\n",
              "    <path d=\"M0 0h24v24H0V0z\" fill=\"none\"/>\n",
              "    <path d=\"M18.56 5.44l.94 2.06.94-2.06 2.06-.94-2.06-.94-.94-2.06-.94 2.06-2.06.94zm-11 1L8.5 8.5l.94-2.06 2.06-.94-2.06-.94L8.5 2.5l-.94 2.06-2.06.94zm10 10l.94 2.06.94-2.06 2.06-.94-2.06-.94-.94-2.06-.94 2.06-2.06.94z\"/><path d=\"M17.41 7.96l-1.37-1.37c-.4-.4-.92-.59-1.43-.59-.52 0-1.04.2-1.43.59L10.3 9.45l-7.72 7.72c-.78.78-.78 2.05 0 2.83L4 21.41c.39.39.9.59 1.41.59.51 0 1.02-.2 1.41-.59l7.78-7.78 2.81-2.81c.8-.78.8-2.07 0-2.86zM5.41 20L4 18.59l7.72-7.72 1.47 1.35L5.41 20z\"/>\n",
              "  </svg>\n",
              "      </button>\n",
              "      \n",
              "  <style>\n",
              "    .colab-df-container {\n",
              "      display:flex;\n",
              "      flex-wrap:wrap;\n",
              "      gap: 12px;\n",
              "    }\n",
              "\n",
              "    .colab-df-convert {\n",
              "      background-color: #E8F0FE;\n",
              "      border: none;\n",
              "      border-radius: 50%;\n",
              "      cursor: pointer;\n",
              "      display: none;\n",
              "      fill: #1967D2;\n",
              "      height: 32px;\n",
              "      padding: 0 0 0 0;\n",
              "      width: 32px;\n",
              "    }\n",
              "\n",
              "    .colab-df-convert:hover {\n",
              "      background-color: #E2EBFA;\n",
              "      box-shadow: 0px 1px 2px rgba(60, 64, 67, 0.3), 0px 1px 3px 1px rgba(60, 64, 67, 0.15);\n",
              "      fill: #174EA6;\n",
              "    }\n",
              "\n",
              "    [theme=dark] .colab-df-convert {\n",
              "      background-color: #3B4455;\n",
              "      fill: #D2E3FC;\n",
              "    }\n",
              "\n",
              "    [theme=dark] .colab-df-convert:hover {\n",
              "      background-color: #434B5C;\n",
              "      box-shadow: 0px 1px 3px 1px rgba(0, 0, 0, 0.15);\n",
              "      filter: drop-shadow(0px 1px 2px rgba(0, 0, 0, 0.3));\n",
              "      fill: #FFFFFF;\n",
              "    }\n",
              "  </style>\n",
              "\n",
              "      <script>\n",
              "        const buttonEl =\n",
              "          document.querySelector('#df-b9db0151-fccf-45b8-82e2-e92ad1cebc61 button.colab-df-convert');\n",
              "        buttonEl.style.display =\n",
              "          google.colab.kernel.accessAllowed ? 'block' : 'none';\n",
              "\n",
              "        async function convertToInteractive(key) {\n",
              "          const element = document.querySelector('#df-b9db0151-fccf-45b8-82e2-e92ad1cebc61');\n",
              "          const dataTable =\n",
              "            await google.colab.kernel.invokeFunction('convertToInteractive',\n",
              "                                                     [key], {});\n",
              "          if (!dataTable) return;\n",
              "\n",
              "          const docLinkHtml = 'Like what you see? Visit the ' +\n",
              "            '<a target=\"_blank\" href=https://colab.research.google.com/notebooks/data_table.ipynb>data table notebook</a>'\n",
              "            + ' to learn more about interactive tables.';\n",
              "          element.innerHTML = '';\n",
              "          dataTable['output_type'] = 'display_data';\n",
              "          await google.colab.output.renderOutput(dataTable, element);\n",
              "          const docLink = document.createElement('div');\n",
              "          docLink.innerHTML = docLinkHtml;\n",
              "          element.appendChild(docLink);\n",
              "        }\n",
              "      </script>\n",
              "    </div>\n",
              "  </div>\n",
              "  "
            ]
          },
          "metadata": {},
          "execution_count": 25
        }
      ]
    },
    {
      "cell_type": "code",
      "source": [
        "input_names = list(combined_df.columns)\n",
        "input_names.remove('Place')\n",
        "\n",
        "input_names"
      ],
      "metadata": {
        "colab": {
          "base_uri": "https://localhost:8080/"
        },
        "id": "gJcDnp8y8qoD",
        "outputId": "b4daf8ad-547d-48ec-ed2b-faac07e1d6a0"
      },
      "execution_count": null,
      "outputs": [
        {
          "output_type": "execute_result",
          "data": {
            "text/plain": [
              "['Age',\n",
              " 'Season ',\n",
              " '1-on-1 week',\n",
              " 'FIR',\n",
              " 'INTERNATIONAL',\n",
              " 'NE',\n",
              " 'NW',\n",
              " 'SE',\n",
              " 'SW',\n",
              " 'Race_0',\n",
              " 'Race_1',\n",
              " 'Race_2',\n",
              " 'Race_3',\n",
              " 'Race_4',\n",
              " 'CORPORATE',\n",
              " 'OTHER',\n",
              " 'POLITICS',\n",
              " 'TRADES',\n",
              " 'TRADITIONAL']"
            ]
          },
          "metadata": {},
          "execution_count": 36
        }
      ]
    },
    {
      "cell_type": "code",
      "source": [
        "import torch\n",
        "\n",
        "labels = combined_df['Place'].to_numpy()\n",
        "\n",
        "inputs = combined_df[input_names].to_numpy()\n",
        "\n",
        "labels = torch.tensor( labels )\n",
        "inputs = torch.tensor( inputs )"
      ],
      "metadata": {
        "id": "BZegWxYDl58I"
      },
      "execution_count": null,
      "outputs": []
    },
    {
      "cell_type": "code",
      "source": [
        "len(np.unique(labels.numpy()))"
      ],
      "metadata": {
        "colab": {
          "base_uri": "https://localhost:8080/"
        },
        "id": "X6pZpjUMugdN",
        "outputId": "9916ec00-2631-418f-e504-3a280d5a1d69"
      },
      "execution_count": null,
      "outputs": [
        {
          "output_type": "execute_result",
          "data": {
            "text/plain": [
              "25"
            ]
          },
          "metadata": {},
          "execution_count": 38
        }
      ]
    },
    {
      "cell_type": "code",
      "source": [
        "class MLP(torch.nn.Module):\n",
        "\n",
        "      # this defines the model\n",
        "        def __init__(self, input_size, hidden_size, n_hidden_layers):\n",
        "            super(MLP, self).__init__()\n",
        "            self.input_size = input_size\n",
        "            self.hidden_size  = hidden_size\n",
        "            self.n_hidden_layers = n_hidden_layers\n",
        "\n",
        "            self.hiddenlayer = torch.nn.Linear(self.input_size, self.hidden_size)\n",
        "            \n",
        "            for i in range(self.n_hidden_layers):\n",
        "                setattr( self, f'mid_layer_{i}', torch.nn.Linear(self.hidden_size, self.hidden_size) )\n",
        "            \n",
        "            # self.hiddenlayer_mid = torch.nn.Linear(self.hidden_size, self.hidden_size)\n",
        "\n",
        "            self.outputlayer = torch.nn.Linear(self.hidden_size, 25) # number of classes, Places\n",
        "\n",
        "            # Normalizations\n",
        "            # self.batch_norm_layer_input = torch.nn.BatchNorm1d(self.input_size) \n",
        "            self.batch_norm_layer = torch.nn.BatchNorm1d(self.hidden_size)\n",
        "\n",
        "            # some nonlinear options\n",
        "            self.sigmoid = torch.nn.Sigmoid() # binary\n",
        "            self.softmax = torch.nn.Softmax()\n",
        "            self.relu = torch.nn.ReLU()\n",
        "            self.leaky_relu = torch.nn.LeakyReLU(0.01)\n",
        "\n",
        "        def forward(self, x):\n",
        "            layer1 = self.hiddenlayer(x)\n",
        "            activation = self.leaky_relu(layer1)\n",
        "\n",
        "            for i in range(self.n_hidden_layers):\n",
        "                _hiddenlayer = getattr(self, f'mid_layer_{i}')\n",
        "                layer = _hiddenlayer(activation)\n",
        "                activation = self.leaky_relu( self.batch_norm_layer(layer) )\n",
        "\n",
        "            # layer2 = self.hiddenlayer_mid(activation)\n",
        "            # activation = self.leaky_relu( self.batch_norm_layer(layer2) )\n",
        "\n",
        "            layer3 = self.outputlayer(activation)\n",
        "            output = self.softmax( layer3 )\n",
        "            return output\n",
        "\n",
        "MLP(10, 20, 1) # test"
      ],
      "metadata": {
        "colab": {
          "base_uri": "https://localhost:8080/"
        },
        "id": "n_RP2XlomrZD",
        "outputId": "9186eaf6-1012-4bcf-aaba-e62fd552b6b0"
      },
      "execution_count": null,
      "outputs": [
        {
          "output_type": "execute_result",
          "data": {
            "text/plain": [
              "MLP(\n",
              "  (hiddenlayer): Linear(in_features=10, out_features=20, bias=True)\n",
              "  (mid_layer_0): Linear(in_features=20, out_features=20, bias=True)\n",
              "  (outputlayer): Linear(in_features=20, out_features=25, bias=True)\n",
              "  (batch_norm_layer): BatchNorm1d(20, eps=1e-05, momentum=0.1, affine=True, track_running_stats=True)\n",
              "  (sigmoid): Sigmoid()\n",
              "  (softmax): Softmax(dim=None)\n",
              "  (relu): ReLU()\n",
              "  (leaky_relu): LeakyReLU(negative_slope=0.01)\n",
              ")"
            ]
          },
          "metadata": {},
          "execution_count": 39
        }
      ]
    },
    {
      "cell_type": "code",
      "source": [
        "from tqdm import tqdm\n",
        "# train the model\n",
        "def train_model(training_data, training_labels, test_data,test_labels, model):\n",
        "  # define the optimization\n",
        "  # criterion = torch.nn.MSELoss() # output layer size = 1\n",
        "  # criterion = torch.nn.BCELoss() # output layer size = 25\n",
        "  criterion = torch.nn.CrossEntropyLoss() # weighted costs \n",
        "\n",
        "  # def mean_power_err_loss(input, target, power=3):\n",
        "  #   return torch.mean(torch.abs(input - target) ** power)\n",
        "  # criterion = mean_power_err_loss\n",
        "\n",
        "  # optimizer = torch.optim.SGD(model.parameters(), lr=1e-2, momentum=0.9)\n",
        "\n",
        "  optimizer = torch.optim.Adam( model.parameters(), lr=1e-3, betas=(0.9, 0.999) )\n",
        "  # Increase the number of epochs for your \"final\" run\n",
        "  epochs, losses = [], []\n",
        "  for epoch in tqdm(range(70_000)):\n",
        "\n",
        "    # clear the gradient\n",
        "    optimizer.zero_grad()\n",
        "    # compute the model output\n",
        "    myoutput = model(training_data.float())\n",
        "\n",
        "    # calculate loss\n",
        "    loss = criterion(myoutput, training_labels.float())\n",
        "\n",
        "    # credit assignment\n",
        "    loss.backward()\n",
        "    # update model weights\n",
        "    optimizer.step()\n",
        "\n",
        "    if epoch%200 == 0:\n",
        "      epochs.append(epoch)\n",
        "      losses.append(loss.detach().numpy())\n",
        "\n",
        "  # ADD PLOT\n",
        "  fig, ax = plt.subplots(1,1, dpi=120)\n",
        "  ax.scatter(epochs, losses)\n",
        "  ax.set_ylabel('loss')\n",
        "  ax.set_xlabel('epoch')\n",
        "  print(losses[-1])\n",
        "  return fig, ax, model\n",
        "\n",
        "\n",
        "# convert ranks or contestants into probability array \n",
        "p_labels = torch.zeros( (len(labels),25), dtype=torch.long)\n",
        "for i, rank in enumerate(labels):\n",
        "  p_labels[i,rank-1] = 1\n",
        "\n",
        "from sklearn.model_selection import train_test_split\n",
        "X_train, X_test, y_train, y_test = train_test_split(inputs, \n",
        "                                                    p_labels, \n",
        "                                                    # np.reshape(labels, (len(labels),1)), \n",
        "                                                    test_size=0.33, train_size=0.67, random_state=12345 )\n",
        "\n",
        "num_feat = X_train.numpy().shape[1]\n",
        "model = MLP( input_size=num_feat, hidden_size=num_feat, n_hidden_layers=1 )\n",
        "print(model)\n",
        "fig, ax, model = train_model( X_train, y_train, X_test, y_test, model )"
      ],
      "metadata": {
        "colab": {
          "base_uri": "https://localhost:8080/",
          "height": 551
        },
        "id": "dA1OE3YasRhx",
        "outputId": "01401749-fa45-4473-f1c3-ac7de2f6537c"
      },
      "execution_count": null,
      "outputs": [
        {
          "output_type": "stream",
          "name": "stdout",
          "text": [
            "MLP(\n",
            "  (hiddenlayer): Linear(in_features=19, out_features=19, bias=True)\n",
            "  (mid_layer_0): Linear(in_features=19, out_features=19, bias=True)\n",
            "  (outputlayer): Linear(in_features=19, out_features=25, bias=True)\n",
            "  (batch_norm_layer): BatchNorm1d(19, eps=1e-05, momentum=0.1, affine=True, track_running_stats=True)\n",
            "  (sigmoid): Sigmoid()\n",
            "  (softmax): Softmax(dim=None)\n",
            "  (relu): ReLU()\n",
            "  (leaky_relu): LeakyReLU(negative_slope=0.01)\n",
            ")\n"
          ]
        },
        {
          "output_type": "stream",
          "name": "stderr",
          "text": [
            "  0%|          | 0/70000 [00:00<?, ?it/s]/usr/local/lib/python3.7/dist-packages/ipykernel_launcher.py:42: UserWarning: Implicit dimension choice for softmax has been deprecated. Change the call to include dim=X as an argument.\n",
            "100%|██████████| 70000/70000 [02:28<00:00, 471.48it/s]\n"
          ]
        },
        {
          "output_type": "stream",
          "name": "stdout",
          "text": [
            "2.6108325\n"
          ]
        },
        {
          "output_type": "display_data",
          "data": {
            "text/plain": [
              "<Figure size 405.6x304.2 with 1 Axes>"
            ],
            "image/png": "[encoded data removed]"
          },
          "metadata": {
            "needs_background": "light"
          }
        }
      ]
    },
    {
      "cell_type": "code",
      "source": [
        "pred = model( X_test.float() ).detach().numpy()\n",
        "\n",
        "# plt.scatter( y_train, np.argmax(pred, axis=1) )\n",
        "# plt.scatter( np.argmax(y_test, axis=1), np.argmax(pred, axis=1) )\n",
        "# plt.show()\n",
        "\n",
        "fig, subs = plt.subplots(nrows=1,ncols=2, figsize=(6,3), gridspec_kw={'width_ratios': [1,2]},dpi=150)\n",
        "subs[0].imshow( pred, aspect='equal', extent=(0,25, 0,50), cmap='RdPu')\n",
        "\n",
        "ind=0\n",
        "\n",
        "dat = subs[1].scatter( np.argmax(pred, axis=1), np.argmax(y_test, axis=1), c=X_test.numpy()[:,ind], label=input_names[ind] )\n",
        "subs[1].plot( np.arange(0,25), np.arange(0,25), '-k', zorder=0 )\n",
        "subs[1].grid(alpha=0.25)\n",
        "fig.colorbar(dat, label=input_names[ind])\n",
        "plt.show()\n",
        "\n",
        "\n",
        "from sklearn.metrics import balanced_accuracy_score\n",
        "score = balanced_accuracy_score( np.argmax(y_test, axis=1),  np.argmax(pred, axis=1) )\n",
        "print( score, 1/25 )\n"
      ],
      "metadata": {
        "colab": {
          "base_uri": "https://localhost:8080/",
          "height": 462
        },
        "id": "elkBSz00tVBv",
        "outputId": "c14332be-6551-4a24-a2b9-1ab04bd33b22"
      },
      "execution_count": null,
      "outputs": [
        {
          "output_type": "stream",
          "name": "stderr",
          "text": [
            "/usr/local/lib/python3.7/dist-packages/ipykernel_launcher.py:42: UserWarning: Implicit dimension choice for softmax has been deprecated. Change the call to include dim=X as an argument.\n"
          ]
        },
        {
          "output_type": "display_data",
          "data": {
            "text/plain": [
              "<Figure size 900x450 with 3 Axes>"
            ],
            "image/png": "[encoded data removed]"
          },
          "metadata": {
            "needs_background": "light"
          }
        },
        {
          "output_type": "stream",
          "name": "stdout",
          "text": [
            "0.09841991341991342 0.04\n"
          ]
        }
      ]
    },
    {
      "cell_type": "code",
      "source": [
        "[f\"{i},{val}\" for i, val in enumerate(input_names)]"
      ],
      "metadata": {
        "colab": {
          "base_uri": "https://localhost:8080/"
        },
        "id": "Qu24_mOFsSVt",
        "outputId": "4e71c355-3b57-4cb9-82c3-fff008c4f0c4"
      },
      "execution_count": null,
      "outputs": [
        {
          "output_type": "execute_result",
          "data": {
            "text/plain": [
              "['0,Age',\n",
              " '1,Season ',\n",
              " '2,1-on-1 week',\n",
              " '3,FIR',\n",
              " '4,INTERNATIONAL',\n",
              " '5,NE',\n",
              " '6,NW',\n",
              " '7,SE',\n",
              " '8,SW',\n",
              " '9,Race_0',\n",
              " '10,Race_1',\n",
              " '11,Race_2',\n",
              " '12,Race_3',\n",
              " '13,Race_4',\n",
              " '14,CORPORATE',\n",
              " '15,OTHER',\n",
              " '16,POLITICS',\n",
              " '17,TRADES',\n",
              " '18,TRADITIONAL']"
            ]
          },
          "metadata": {},
          "execution_count": 43
        }
      ]
    },
    {
      "cell_type": "code",
      "source": [
        "import matplotlib.pyplot as plt\n",
        "import matplotlib.colors as colors\n",
        "import numpy as np\n",
        "\n",
        "def truncate_colormap(cmap, minval=0.0, maxval=1.0, n=100):\n",
        "    new_cmap = colors.LinearSegmentedColormap.from_list(\n",
        "        'trunc({n},{a:.2f},{b:.2f})'.format(n=cmap.name, a=minval, b=maxval),\n",
        "        cmap(np.linspace(minval, maxval, n)))\n",
        "    return new_cmap\n",
        "\n",
        "# arr = np.linspace(0, 50, 100).reshape((10, 10))\n",
        "# fig, ax = plt.subplots(ncols=2)\n",
        "\n",
        "# cmap = plt.get_cmap('jet')\n",
        "# new_cmap = truncate_colormap(cmap, 0.2, 0.8)\n",
        "# ax[0].imshow(arr, interpolation='nearest', cmap=cmap)\n",
        "# ax[1].imshow(arr, interpolation='nearest', cmap=new_cmap)\n",
        "# plt.show()\n"
      ],
      "metadata": {
        "id": "3ooX4BfbnuNp"
      },
      "execution_count": null,
      "outputs": []
    },
    {
      "cell_type": "code",
      "source": [
        "# install latex for matplotlib\n",
        "!sudo apt install cm-super dvipng texlive-latex-extra texlive-latex-recommended\n"
      ],
      "metadata": {
        "id": "HABAR7-0I16Y"
      },
      "execution_count": null,
      "outputs": []
    },
    {
      "cell_type": "code",
      "source": [
        "from sklearn.metrics import confusion_matrix, ConfusionMatrixDisplay\n",
        "import matplotlib.patches as patches\n",
        "\n",
        "plt.style.use('drive/MyDrive/DSFP_data/mpl_style.txt')\n",
        "\n",
        "\n",
        "cm = confusion_matrix( np.argmax(y_test, axis=1),  np.argmax(pred, axis=1) )\n",
        "\n",
        "disp = ConfusionMatrixDisplay( confusion_matrix=cm, display_labels=[i for i in range(1,26)] )\n",
        "\n",
        "fig, ax = plt.subplots( 1, 1, figsize=(7,7), dpi=150)\n",
        "\n",
        "cmap = plt.get_cmap('RdPu')\n",
        "custom_cmap = truncate_colormap(cmap, 0.0, 0.8)\n",
        "\n",
        "disp.plot(ax = ax, cmap=custom_cmap, colorbar=False)\n",
        "\n",
        "plt.colorbar( mappable=disp.im_, ax=ax, fraction=0.046, pad=0.04 )\n",
        "\n",
        "for i in range(25):\n",
        "  rect = patches.Rectangle( (i-.5, i-.5), 1, 1, linewidth=1, edgecolor='k', facecolor='none')\n",
        "  # Add the patch to the Axes\n",
        "  ax.add_patch(rect)\n",
        "\n",
        "ax.set_xlabel( 'Predicted Place', fontsize=12,)\n",
        "ax.set_ylabel( 'True Place', fontsize=12,)\n",
        "\n",
        "# plt.savefig('drive/MyDrive/DSFP_data/NN_conf_matr.pdf')\n",
        "\n",
        "plt.show()"
      ],
      "metadata": {
        "colab": {
          "base_uri": "https://localhost:8080/",
          "height": 863
        },
        "id": "z35Ux_iytVZY",
        "outputId": "69bea827-682a-461b-9bd2-bed631745ff6"
      },
      "execution_count": null,
      "outputs": [
        {
          "output_type": "display_data",
          "data": {
            "text/plain": [
              "<Figure size 1050x1050 with 2 Axes>"
            ],
            "image/png": "[encoded data removed]"
          },
          "metadata": {
            "needs_background": "light"
          }
        }
      ]
    },
    {
      "cell_type": "code",
      "source": [
        ""
      ],
      "metadata": {
        "id": "GFkoa2wC0Tjz"
      },
      "execution_count": null,
      "outputs": []
    },
    {
      "cell_type": "code",
      "source": [
        ""
      ],
      "metadata": {
        "id": "A73IHXsUXEPX"
      },
      "execution_count": null,
      "outputs": []
    },
    {
      "cell_type": "code",
      "source": [
        "X_test.shape"
      ],
      "metadata": {
        "colab": {
          "base_uri": "https://localhost:8080/"
        },
        "id": "a9FQCTaiLfdp",
        "outputId": "76a5ca11-f702-44e9-b4eb-cfbb090f98cf"
      },
      "execution_count": null,
      "outputs": [
        {
          "output_type": "execute_result",
          "data": {
            "text/plain": [
              "torch.Size([132, 19])"
            ]
          },
          "metadata": {},
          "execution_count": 48
        }
      ]
    },
    {
      "cell_type": "code",
      "source": [
        "# Example of target with class indices\n",
        "loss = torch.nn.CrossEntropyLoss()\n",
        "input = torch.randn(3, 5, requires_grad=True)\n",
        "target = torch.empty(3, dtype=torch.long).random_(5)\n",
        "\n",
        "print(input, '\\n', target)\n",
        "\n",
        "output = loss(input, target)\n",
        "output.backward()\n",
        "\n",
        "# Example of target with class probabilities\n",
        "input = torch.randn(3, 5, requires_grad=True)\n",
        "target = torch.randn(3, 5).softmax(dim=1)\n",
        "\n",
        "output = loss(input, target)\n",
        "\n",
        "output.backward()"
      ],
      "metadata": {
        "id": "4e-gyCQcL0vB",
        "colab": {
          "base_uri": "https://localhost:8080/"
        },
        "outputId": "2e5b0a6d-4149-4d9e-bb9a-a1c5a8b088c5"
      },
      "execution_count": null,
      "outputs": [
        {
          "output_type": "stream",
          "name": "stdout",
          "text": [
            "tensor([[-1.0810,  1.3962,  2.5343,  0.5350,  0.6050],\n",
            "        [ 0.9558,  0.3176,  0.7493, -1.8300,  0.4218],\n",
            "        [-0.9194,  0.4368, -2.6578, -0.4051,  0.1625]], requires_grad=True) \n",
            " tensor([3, 0, 1])\n"
          ]
        }
      ]
    },
    {
      "cell_type": "code",
      "source": [
        "np.unique( X_train[:,1].numpy() )"
      ],
      "metadata": {
        "colab": {
          "base_uri": "https://localhost:8080/"
        },
        "id": "ZgQc65FxdWIT",
        "outputId": "d3f5b584-e55a-4562-9c24-4f97a6dfb7e8"
      },
      "execution_count": null,
      "outputs": [
        {
          "output_type": "execute_result",
          "data": {
            "text/plain": [
              "array([11., 12., 13., 14., 15., 16., 17., 18., 19., 20., 21., 22., 23.,\n",
              "       24., 25.])"
            ]
          },
          "metadata": {},
          "execution_count": 53
        }
      ]
    },
    {
      "cell_type": "code",
      "source": [
        "from sklearn.metrics import balanced_accuracy_score\n",
        "\n",
        "balanced_accuracy_score( np.random.randint(low=1, high=25, size=600_000),  np.random.randint(low=1, high=25, size=600_000) )\n"
      ],
      "metadata": {
        "colab": {
          "base_uri": "https://localhost:8080/"
        },
        "id": "7gpYiNS2eJNe",
        "outputId": "0fd35cd5-2a7c-4b56-b5d7-94502e410aa3"
      },
      "execution_count": null,
      "outputs": [
        {
          "output_type": "execute_result",
          "data": {
            "text/plain": [
              "0.041952290185935694"
            ]
          },
          "metadata": {},
          "execution_count": 60
        }
      ]
    },
    {
      "cell_type": "code",
      "source": [
        "1/25"
      ],
      "metadata": {
        "colab": {
          "base_uri": "https://localhost:8080/"
        },
        "id": "ogYdVzx2eXfX",
        "outputId": "f0cbd6de-9aa1-4925-8cbf-5e806c9a4443"
      },
      "execution_count": null,
      "outputs": [
        {
          "output_type": "execute_result",
          "data": {
            "text/plain": [
              "0.04"
            ]
          },
          "metadata": {},
          "execution_count": 61
        }
      ]
    },
    {
      "cell_type": "code",
      "source": [
        "plt.figure(figsize=(4,2))\n",
        "plt.hist( combined_df.Place, bins=25, histtype='step', color='pink', linewidth=2 )\n",
        "plt.grid(alpha=0.1)\n",
        "plt.xticks( np.arange(1,26,2) )\n",
        "plt.xlabel('Place')\n",
        "plt.ylabel('Count')\n",
        "\n",
        "# plt.savefig('drive/MyDrive/DSFP_data/NN_places_hist.pdf')\n",
        "\n",
        "plt.show()"
      ],
      "metadata": {
        "colab": {
          "base_uri": "https://localhost:8080/",
          "height": 656
        },
        "id": "gZfYl8gpVtAG",
        "outputId": "ece1b6d5-5939-410a-baa7-12309196d6f5"
      },
      "execution_count": null,
      "outputs": [
        {
          "output_type": "display_data",
          "data": {
            "text/plain": [
              "<Figure size 1200x600 with 1 Axes>"
            ],
            "image/png": "[encoded data removed]"
          },
          "metadata": {
            "needs_background": "light"
          }
        }
      ]
    },
    {
      "cell_type": "code",
      "source": [
        "\n",
        "pred = model( X_test.float() ).detach().numpy()\n",
        "\n",
        "fig, subs = plt.subplots(nrows=1,ncols=2, figsize=(3,3),dpi=250)\n",
        "\n",
        "locs = np.argsort( np.argmax(y_test.numpy(), axis=1) )\n",
        "\n",
        "subs[0].imshow( pred[locs,:] , cmap='RdPu', extent=(0,25, 0,130) )\n",
        "subs[1].imshow( y_test.numpy()[locs,:],  cmap='bone', extent=(0,25, 0,130) )\n",
        "plt.show()"
      ],
      "metadata": {
        "colab": {
          "base_uri": "https://localhost:8080/",
          "height": 704
        },
        "id": "4LSV5fewaDtP",
        "outputId": "1d9fd222-17da-4895-f2a7-4bb1e9e8eb75"
      },
      "execution_count": null,
      "outputs": [
        {
          "output_type": "stream",
          "name": "stderr",
          "text": [
            "/usr/local/lib/python3.7/dist-packages/ipykernel_launcher.py:42: UserWarning: Implicit dimension choice for softmax has been deprecated. Change the call to include dim=X as an argument.\n"
          ]
        },
        {
          "output_type": "display_data",
          "data": {
            "text/plain": [
              "<Figure size 750x750 with 2 Axes>"
            ],
            "image/png": "[encoded data removed]"
          },
          "metadata": {
            "needs_background": "light"
          }
        }
      ]
    },
    {
      "cell_type": "code",
      "source": [
        "pred.shape"
      ],
      "metadata": {
        "colab": {
          "base_uri": "https://localhost:8080/"
        },
        "id": "xwBJlkMexVgz",
        "outputId": "39b695a3-ec8b-46e9-8391-bedd6abeac6b"
      },
      "execution_count": null,
      "outputs": [
        {
          "output_type": "execute_result",
          "data": {
            "text/plain": [
              "(130, 25)"
            ]
          },
          "metadata": {},
          "execution_count": 83
        }
      ]
    },
    {
      "cell_type": "code",
      "source": [
        ""
      ],
      "metadata": {
        "id": "hIa2q3nnxZIa"
      },
      "execution_count": null,
      "outputs": []
    }
  ]
}