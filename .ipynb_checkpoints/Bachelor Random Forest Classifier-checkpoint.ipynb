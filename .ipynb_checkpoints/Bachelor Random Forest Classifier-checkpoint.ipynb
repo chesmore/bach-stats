{
 "cells": [
  {
   "cell_type": "markdown",
   "metadata": {},
   "source": [
    "# Training Random Forest Classifier\n",
    "\n",
    "Author: Abigail J. Lee"
   ]
  },
  {
   "cell_type": "code",
   "execution_count": 1,
   "metadata": {},
   "outputs": [],
   "source": [
    "import matplotlib.pyplot as plt\n",
    "import numpy as np\n",
    "from sklearn.model_selection import train_test_split\n",
    "import pandas as pd\n",
    "from sklearn.ensemble import RandomForestRegressor"
   ]
  },
  {
   "cell_type": "markdown",
   "metadata": {},
   "source": [
    "## Read in Data"
   ]
  },
  {
   "cell_type": "code",
   "execution_count": 2,
   "metadata": {},
   "outputs": [],
   "source": [
    "data = pd.read_csv('/Users/abigaillee/Desktop/Bachelor analysis.csv')\n"
   ]
  },
  {
   "cell_type": "markdown",
   "metadata": {},
   "source": [
    "#### Clean Data"
   ]
  },
  {
   "cell_type": "code",
   "execution_count": 3,
   "metadata": {},
   "outputs": [],
   "source": [
    "data['FIR?'] = data['FIR?'].replace(' ', np.nan) # Cleaning this column because there are some accidential empties\n",
    "for col in [\"Hometown\", \"Job category\", \"Race\", \"Joke Entrance\"]:\n",
    "    data = data.replace( {name:i for i, name in enumerate(data[col].unique())} )\n",
    "data['FIR'] = np.where( data['FIR?'] == 'Yes' , 1 , 0)\n",
    "\n",
    "# create labels and feature labels\n",
    "labels=data['Place']\n",
    "\n",
    "# drop data that is irrelevant after cleanining\n",
    "data = data.drop(columns=['FIR?', 'Joke Entrance','Name','Season ','Place'])\n",
    "feature_list = list(data.columns)\n"
   ]
  },
  {
   "cell_type": "code",
   "execution_count": 4,
   "metadata": {},
   "outputs": [],
   "source": [
    "# convert to numpy arrays for sklearn after one-hot encoding\n",
    "data=np.array(pd.get_dummies(data,columns=['Hometown','Job category','Race','1-on-1 week']))\n",
    "data=np.array(data)\n",
    "labels=np.array(labels)"
   ]
  },
  {
   "cell_type": "code",
   "execution_count": 5,
   "metadata": {},
   "outputs": [],
   "source": [
    "# split into training and testing datasets\n",
    "train_data, test_data, train_labels, test_labels = \\\n",
    "    train_test_split(data, labels, test_size = 0.1, random_state = 42)"
   ]
  },
  {
   "cell_type": "markdown",
   "metadata": {},
   "source": [
    "Train 20-tree Model"
   ]
  },
  {
   "cell_type": "code",
   "execution_count": 6,
   "metadata": {},
   "outputs": [],
   "source": [
    "rf = RandomForestRegressor(n_estimators = 20, random_state = 42)\n",
    "rf.fit(train_data, train_labels);"
   ]
  },
  {
   "cell_type": "code",
   "execution_count": 7,
   "metadata": {},
   "outputs": [
    {
     "name": "stdout",
     "output_type": "stream",
     "text": [
      "Accuracy: 30.54 %.\n"
     ]
    }
   ],
   "source": [
    "predictions = rf.predict(test_data)\n",
    "# Calculate the absolute errors\n",
    "errors = abs(predictions - test_labels)\n",
    "mape = 100 * (errors / test_labels)\n",
    "# Calculate and display accuracy\n",
    "accuracy = 100 - np.mean(mape)\n",
    "print('Accuracy:', round(accuracy, 2), '%.')\n"
   ]
  },
  {
   "cell_type": "markdown",
   "metadata": {},
   "source": [
    "## Make figure comparing predicted vs. true labels of test data"
   ]
  },
  {
   "cell_type": "code",
   "execution_count": 8,
   "metadata": {},
   "outputs": [
    {
     "name": "stdout",
     "output_type": "stream",
     "text": [
      "(array([0.82638494, 2.72943901]), array([[ 0.02772008, -0.32033074],\n",
      "       [-0.32033074,  4.57072423]]))\n",
      "5.969040259042429\n"
     ]
    }
   ],
   "source": [
    "print(np.polyfit(predictions, test_labels,deg=1,cov=True))\n",
    "y = predictions *0.82638494 + 2.72943901\n",
    "print(np.sqrt(np.sum((y-test_labels)**2))/np.sqrt(len(predictions)))"
   ]
  },
  {
   "cell_type": "code",
   "execution_count": 9,
   "metadata": {},
   "outputs": [
    {
     "data": {
      "image/png": "[encoded data removed]",
      "text/plain": [
       "<Figure size 432x432 with 1 Axes>"
      ]
     },
     "metadata": {
      "needs_background": "light"
     },
     "output_type": "display_data"
    }
   ],
   "source": [
    "fig, ax = plt.subplots(figsize=(6,6))\n",
    "ax.scatter(predictions, test_labels,facecolor='pink',edgecolor='deeppink')\n",
    "ax.set_xlim(0,26)\n",
    "ax.set_ylim(0,26)\n",
    "# ax.plot(np.arange(0,26,1),np.arange(0,26,1),color='deeppink')\n",
    "\n",
    "ax.set_xticks([0,5,10,15,20,25])\n",
    "ax.set_xticklabels(['0','5','10','15','20','25'],fontsize=14)\n",
    "\n",
    "ax.set_yticks([0,5,10,15,20,25])\n",
    "ax.set_yticklabels(['0','5','10','15','20','25'],fontsize=14)\n",
    "\n",
    "\n",
    "ax.plot(np.arange(0,26,1), np.arange(0,26,1)*0.82638494 + 2.72943901,color='maroon')\n",
    "ax.fill_between(np.arange(0,26,1), np.arange(0,26,1)*0.82638494 + 2.72943901 - 5.969040259042429,np.arange(0,26,1)*0.82638494 + 2.72943901 +5.969040259042429, color='maroon', alpha=0.1)\n",
    "\n",
    "\n",
    "ax.tick_params(direction='in')\n",
    "# ax.tick_params(which='minor', direction='in')\n",
    "plt.xlabel('Predicted Ranking',fontsize=20)\n",
    "plt.ylabel('True Ranking',fontsize=20)\n",
    "plt.savefig('/Users/abigaillee/Desktop/bachelor_rf.png')\n",
    "\n",
    "plt.show()\n"
   ]
  },
  {
   "cell_type": "code",
   "execution_count": null,
   "metadata": {},
   "outputs": [],
   "source": []
  }
 ],
 "metadata": {
  "kernelspec": {
   "display_name": "Python 3",
   "language": "python",
   "name": "python3"
  },
  "language_info": {
   "codemirror_mode": {
    "name": "ipython",
    "version": 3
   },
   "file_extension": ".py",
   "mimetype": "text/x-python",
   "name": "python",
   "nbconvert_exporter": "python",
   "pygments_lexer": "ipython3",
   "version": "3.8.5"
  }
 },
 "nbformat": 4,
 "nbformat_minor": 4
}
