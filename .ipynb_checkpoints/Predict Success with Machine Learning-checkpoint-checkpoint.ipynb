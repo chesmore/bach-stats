{
 "cells": [
  {
   "cell_type": "markdown",
   "id": "8214c4d3-0843-4a13-8b8e-40426359ca66",
   "metadata": {
    "tags": []
   },
   "source": [
    "## Contestant Success Prediction with Machine Learning\n",
    "Grace E. Chesmore\n",
    "\n",
    "Here we predict a Bachelor contestant's longevity in the season [episode number] given a characteristic [age,race,occupation].  We train a series of machine learning regular linear-regression models with the sklearn package.  Contestant data is provided by XXX."
   ]
  },
  {
   "cell_type": "code",
   "execution_count": null,
   "id": "2fdc0731-bd38-4d76-b124-33f9b9d75703",
   "metadata": {
    "jupyter": {
     "source_hidden": true
    },
    "tags": []
   },
   "outputs": [],
   "source": [
    "import matplotlib.pyplot as plt\n",
    "import numpy as np\n",
    "from sklearn import datasets, linear_model\n",
    "from sklearn.metrics import mean_squared_error, r2_score\n",
    "import matplotlib\n",
    "import matplotlib.pyplot as plt\n",
    "import csv\n",
    "import pandas as pd\n",
    "import seaborn as sns\n",
    "import math\n",
    "\n",
    "from sklearn.gaussian_process.kernels import RBF\n",
    "from sklearn.gaussian_process.kernels import ExpSineSquared\n",
    "from sklearn.gaussian_process.kernels import RationalQuadratic\n",
    "from sklearn.gaussian_process.kernels import WhiteKernel\n",
    "from sklearn.gaussian_process import GaussianProcessRegressor\n",
    "\n",
    "%reload_ext blackcellmagic\n",
    "%matplotlib inline\n",
    "matplotlib.rcParams[\"font.family\"] = \"Helvetica Neue\"\n",
    "matplotlib.rcParams[\"font.size\"] = 18\n",
    "# plt.rcParams[\"axes.unicode_minus\"] = False\n",
    "matplotlib.rcParams.update({\"axes.grid\" : True, \"grid.color\": \"grey\", \"grid.alpha\": .2, 'xtick.direction':'in','ytick.direction':'in'})\n",
    "%config InlineBackend.figure_format = 'retina'"
   ]
  },
  {
   "cell_type": "code",
   "execution_count": null,
   "id": "c4c5a2e8-b1b3-4ef4-b47f-e8f95bf64a4c",
   "metadata": {
    "jupyter": {
     "source_hidden": true
    },
    "tags": []
   },
   "outputs": [],
   "source": [
    "data = csv.reader(open(\"bach_data.csv\"), delimiter=\",\")\n",
    "name, age, hometown, job, race, place, season, oneonone = [], [], [], [], [], [], [], []\n",
    "\n",
    "for row in data:\n",
    "    name.append(row[0])\n",
    "    age.append(row[1])\n",
    "    hometown.append(row[2])\n",
    "    job.append(row[3])\n",
    "    race.append(row[4])\n",
    "    place.append(row[5])\n",
    "    season.append(row[6])\n",
    "    oneonone.append(row[7])\n",
    "\n",
    "season = season[1:]\n",
    "place = place[1:]\n",
    "race = race[1:]\n",
    "name = name[1:]\n",
    "job = job[1:]\n",
    "hometown = hometown[1:]\n",
    "age = age[1:]\n",
    "oneonone = oneonone[1:]\n",
    "\n",
    "for ii in range(len(age)):\n",
    "    age[ii] = float(age[ii])\n",
    "for ii in range(len(season)):\n",
    "    season[ii] = float(season[ii])\n",
    "for ii in range(len(place)):\n",
    "    place[ii] = float(place[ii])\n",
    "for ii in range(len(oneonone)):\n",
    "    if oneonone[ii] == \"\":\n",
    "        oneonone[ii] = 0\n",
    "    else:\n",
    "        oneonone[ii] = int(oneonone[ii])\n",
    "\n",
    "for ii in range(len(race)):\n",
    "    if race[ii] == \"White\":\n",
    "        race[ii] = 0\n",
    "    elif race[ii] == \"Black\":\n",
    "        race[ii] = 1\n",
    "    elif race[ii] == \"Asian\":\n",
    "        race[ii] = 2\n",
    "    elif race[ii] == \"Hispanic\":\n",
    "        race[ii] = 3\n",
    "    else:\n",
    "        race[ii] = 4\n",
    "\n",
    "age_set_tot = []\n",
    "ssns = np.array([11, 12, 13, 14, 15, 16, 17, 18, 19, 20, 21, 22, 23, 24, 25])\n",
    "for ii in range(len(ssns)):\n",
    "    age_set = np.array(age)[np.where(np.array(season) == ssns[ii])]\n",
    "    age_set_tot.append(age_set)\n",
    "\n",
    "fig = plt.figure(figsize=(7, 4))\n",
    "ax = fig.add_axes([0, 0, 1, 1])\n",
    "ax.set_xticklabels(\n",
    "    [\n",
    "        \"11\",\n",
    "        \"12\",\n",
    "        \"13\",\n",
    "        \"14\",\n",
    "        \"15\",\n",
    "        \"16\",\n",
    "        \"17\",\n",
    "        \"18\",\n",
    "        \"19\",\n",
    "        \"20\",\n",
    "        \"21\",\n",
    "        \"22\",\n",
    "        \"23\",\n",
    "        \"24\",\n",
    "        \"25\",\n",
    "    ]\n",
    ")\n",
    "ax.set_xlabel(\"Season [n]\")\n",
    "ax.set_ylabel(\"Age [yrs]\")\n",
    "bp = ax.boxplot(age_set_tot, patch_artist=True)\n",
    "colors = [\"lightpink\"]\n",
    "\n",
    "for patch in bp[\"boxes\"]:\n",
    "    patch.set_facecolor(colors[0])\n",
    "for median in bp[\"medians\"]:\n",
    "    median.set(color=\"#FF00FF\", linewidth=3)\n",
    "ax.set_title(\"Age Distribution per Season\")\n",
    "\n",
    "plt.show()"
   ]
  },
  {
   "cell_type": "code",
   "execution_count": null,
   "id": "f15b8b2d-0a1a-4a8f-846c-24f281abc94d",
   "metadata": {
    "jupyter": {
     "source_hidden": true
    },
    "tags": []
   },
   "outputs": [],
   "source": [
    "df = pd.read_csv(\"bach_data.csv\")\n",
    "g = sns.PairGrid(df, vars=[\"Age\", \"Place\", \"1-on-1 week\"])\n",
    "g.map_diag(sns.histplot, hue=None, color=\"pink\")\n",
    "g.add_legend()\n",
    "g.map_upper(sns.kdeplot, shade=True, color=\"pink\")\n",
    "g.map_lower(sns.kdeplot, shade=True, color=\"pink\")\n",
    "plt.show()"
   ]
  },
  {
   "cell_type": "markdown",
   "id": "268f0924-453e-49ab-a32a-fc99aa6648f4",
   "metadata": {},
   "source": [
    "Here we read in contestant data and train the machine learning linear regression models."
   ]
  },
  {
   "cell_type": "code",
   "execution_count": null,
   "id": "2b1f8142-6e50-4194-944f-3910b6d9e76f",
   "metadata": {
    "jupyter": {
     "source_hidden": true
    },
    "tags": []
   },
   "outputs": [],
   "source": [
    "vals = np.c_[age, oneonone]\n",
    "episode = np.array(place)\n",
    "\n",
    "train_split = 100\n",
    "# Split the data into training/testing sets\n",
    "age_train = vals[:-train_split]\n",
    "age_test = vals[-train_split:]\n",
    "# Split the targets into training/testing sets\n",
    "y_train = episode[:-train_split]\n",
    "y_test = episode[-train_split:]\n",
    "\n",
    "# Create linear regression object\n",
    "regr = linear_model.Ridge(alpha=0.5)\n",
    "\n",
    "# Train the model using the training sets\n",
    "regr.fit(age_train, y_train)\n",
    "\n",
    "# Make predictions using the testing set\n",
    "y_pred = regr.predict(age_test)\n",
    "\n",
    "# The coefficient of determination: 1 is perfect prediction\n",
    "print(\"Coefficient of determination: %.2f\" % r2_score(y_test, y_pred))"
   ]
  },
  {
   "cell_type": "markdown",
   "id": "3a41bf3d-44bb-46de-a620-826862ac2c6a",
   "metadata": {},
   "source": [
    "### We can now input our new contestant's age to predict their longevity in the season."
   ]
  },
  {
   "cell_type": "code",
   "execution_count": null,
   "id": "6f97b4a9-e780-4788-aeff-acdad6cc842d",
   "metadata": {
    "jupyter": {
     "source_hidden": true
    },
    "tags": []
   },
   "outputs": [],
   "source": [
    "age_c = [26, 5]\n",
    "\n",
    "age_c = np.reshape(age_c, (1, len(age_c)))\n",
    "\n",
    "y_pred = regr.predict(age_c)\n",
    "print(\"Place: %d\" %abs(math.ceil(y_pred)))"
   ]
  },
  {
   "cell_type": "code",
   "execution_count": null,
   "id": "f62c5ff0-0fcc-442a-8ac8-e608bd421e7a",
   "metadata": {
    "jupyter": {
     "source_hidden": true
    },
    "tags": []
   },
   "outputs": [],
   "source": [
    "\n",
    "# Load the diabetes dataset\n",
    "# age, episode = datasets.load_diabetes(return_X_y=True)\n",
    "\n",
    "# Use only one feature\n",
    "# age = age[:, np.newaxis, 2]\n",
    "vals = np.c_[age, oneonone]\n",
    "# vals = np.reshape(np.array(vals),(len(vals),1))\n",
    "episode = np.array(place)\n",
    "\n",
    "train_split = 100\n",
    "# Split the data into training/testing sets\n",
    "age_train = vals[:-train_split]\n",
    "print(len(age_train)/len(vals))\n",
    "age_test = vals[-train_split:]\n",
    "print(len(age_test)/len(vals))\n",
    "# Split the targets into training/testing sets\n",
    "y_train = episode[:-train_split]\n",
    "y_test = episode[-train_split:]\n",
    "\n",
    "long_term_trend_kernel = 50.0 ** 2 * RBF(length_scale=50.0)\n",
    "\n",
    "seasonal_kernel = (\n",
    "    2.0 ** 2\n",
    "    * RBF(length_scale=100.0)\n",
    "    * ExpSineSquared(length_scale=1.0, periodicity=1.0, periodicity_bounds=\"fixed\")\n",
    ")\n",
    "\n",
    "\n",
    "irregularities_kernel = 0.5 ** 2 * RationalQuadratic(length_scale=1.0, alpha=1.0)\n",
    "\n",
    "\n",
    "noise_kernel = 0.1 ** 2 * RBF(length_scale=0.1) + WhiteKernel(\n",
    "    noise_level=0.1 ** 2, noise_level_bounds=(1e-5, 1e5)\n",
    ")\n",
    "co2_kernel = (\n",
    "    long_term_trend_kernel + seasonal_kernel + irregularities_kernel + noise_kernel\n",
    ")\n",
    "\n",
    "\n",
    "X = age_train[:,1].reshape(-1, 1)\n",
    "y = y_train\n",
    "y_mean = y.mean()\n",
    "gaussian_process = GaussianProcessRegressor(kernel=co2_kernel, normalize_y=False)\n",
    "gaussian_process.fit(X, y - y_mean)"
   ]
  },
  {
   "cell_type": "code",
   "execution_count": null,
   "id": "f674e6b8-1f70-4333-b397-7472384064bb",
   "metadata": {
    "jupyter": {
     "source_hidden": true
    },
    "tags": []
   },
   "outputs": [],
   "source": [
    "mean_y_pred, std_y_pred = gaussian_process.predict(age_test[:,1].reshape(-1,1), return_std=True)\n",
    "mean_y_pred += y_mean\n",
    "\n",
    "# The mean squared error\n",
    "print(\"Mean squared error: %.2f\" % mean_squared_error(y_test, mean_y_pred))\n",
    "# The coefficient of determination: 1 is perfect prediction\n",
    "print(\"Coefficient of determination: %.2f\" % r2_score(y_test, mean_y_pred))\n",
    "\n",
    "plt.plot(X, y, color=\"black\", linestyle=\"dashed\", label=\"Measurements\")\n",
    "plt.plot(age_test[:,1], mean_y_pred, color=\"tab:blue\", alpha=0.4, label=\"Gaussian process\")\n",
    "\n",
    "plt.legend()\n",
    "plt.xlabel(\"Year\")\n",
    "plt.ylabel(\"Monthly average of CO$_2$ concentration (ppm)\")\n",
    "_ = plt.title(\n",
    "    \"Monthly average of air samples measurements\\nfrom the Mauna Loa Observatory\"\n",
    ")"
   ]
  },
  {
   "cell_type": "code",
   "execution_count": null,
   "id": "5525683c-8035-465f-baa0-8d7de7eb9fea",
   "metadata": {
    "jupyter": {
     "source_hidden": true
    },
    "tags": []
   },
   "outputs": [],
   "source": [
    "y_pred = gaussian_process.predict(np.array([7]).reshape(-1,1), return_std=False)\n",
    "print(\"Place: %d\" %abs(math.ceil(y_pred)))"
   ]
  },
  {
   "cell_type": "code",
   "execution_count": null,
   "id": "0628acb8-f786-41e9-83e0-69f2aa6d9dd8",
   "metadata": {},
   "outputs": [],
   "source": []
  }
 ],
 "metadata": {
  "kernelspec": {
   "display_name": "Python 3",
   "language": "python",
   "name": "python3"
  },
  "language_info": {
   "codemirror_mode": {
    "name": "ipython",
    "version": 3
   },
   "file_extension": ".py",
   "mimetype": "text/x-python",
   "name": "python",
   "nbconvert_exporter": "python",
   "pygments_lexer": "ipython3",
   "version": "3.7.5"
  }
 },
 "nbformat": 4,
 "nbformat_minor": 5
}
